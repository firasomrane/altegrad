{
 "cells": [
  {
   "cell_type": "code",
   "execution_count": 1,
   "metadata": {},
   "outputs": [],
   "source": [
    "import string\n",
    "from nltk.corpus import stopwords\n",
    "\n",
    "#import os\n",
    "#os.chdir() # to change working directory to where functions live\n",
    "# import custom functions\n",
    "from library import clean_text_simple, terms_to_graph, core_dec"
   ]
  },
  {
   "cell_type": "code",
   "execution_count": null,
   "metadata": {},
   "outputs": [],
   "source": [
    "stpwds = stopwords.words('english')\n",
    "punct = string.punctuation.replace('-', '')\n",
    "\n",
    "my_doc = 'A method for solution of systems of linear algebraic equations \\\n",
    "with m-dimensional lambda matrices. A system of linear algebraic \\\n",
    "equations with m-dimensional lambda matrices is considered. \\\n",
    "The proposed method of searching for the solution of this from library import clean_text_simple, system \\\n",
    "lies in reducing it to a numerical system of a special kind.'\n",
    "\n",
    "my_doc = my_doc.replace('\\n', '')\n",
    "\n",
    "# pre-process document\n",
    "my_tokens = clean_text_simple(my_doc,my_stopwords=stpwds,punct=punct)\n",
    "\n",
    "g = terms_to_graph(my_tokens, 4)\n",
    "\n",
    "# number of edges\n",
    "print(len(g.es))\n",
    "\n",
    "# the number of nodes should be equal to the number of unique terms\n",
    "len(g.vs) == len(set(my_tokens))\n",
    "print(g.vs[0])\n",
    "\n",
    "edge_weights = []\n",
    "for edge in g.es:\n",
    "    source = g.vs[edge.source]['name']\n",
    "    target = g.vs[edge.target]['name']\n",
    "    weight = edge['weight']\n",
    "    edge_weights.append([source, target, weight])\n",
    "\n",
    "print(edge_weights)\n",
    "\n",
    "for w in range(2,10):\n",
    "    g = terms_to_graph(my_tokens, w)\n",
    "    ### fill the gap (print density of g) ###\n",
    "\n",
    "# decompose g\n",
    "core_numbers = core_dec(g,False)\n",
    "print(core_numbers)\n",
    "\n",
    "### fill the gap (compare 'core_numbers' with the output of the .coreness() igraph method) ###\n",
    "\n",
    "# retain main core as keywords\n",
    "max_c_n = max(core_numbers.values())\n",
    "keywords = [kwd for kwd, c_n in core_numbers.items() if c_n == max_c_n]\n",
    "print(keywords)\n"
   ]
  }
 ],
 "metadata": {
  "kernelspec": {
   "display_name": "Python 3",
   "language": "python",
   "name": "python3"
  },
  "language_info": {
   "codemirror_mode": {
    "name": "ipython",
    "version": 3
   },
   "file_extension": ".py",
   "mimetype": "text/x-python",
   "name": "python",
   "nbconvert_exporter": "python",
   "pygments_lexer": "ipython3",
   "version": "3.7.3"
  }
 },
 "nbformat": 4,
 "nbformat_minor": 2
}
